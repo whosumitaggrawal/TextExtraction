{
 "cells": [
  {
   "cell_type": "code",
   "execution_count": 1,
   "id": "908cbd24",
   "metadata": {},
   "outputs": [],
   "source": [
    "#Importing Necessary Libraries\n",
    "\n",
    "import cv2\n",
    "import gradio as gr\n",
    "import pytesseract"
   ]
  },
  {
   "cell_type": "code",
   "execution_count": 2,
   "id": "12fd6418",
   "metadata": {},
   "outputs": [],
   "source": [
    "#Text Extraction from Image\n",
    "\n",
    "def extract_text(image):\n",
    "    # Convert image to grayscale\n",
    "    gray = cv2.cvtColor(image, cv2.COLOR_BGR2GRAY)\n",
    "    \n",
    "    # Perform text extraction using pytesseract\n",
    "    text = pytesseract.image_to_string(gray)\n",
    "    \n",
    "    # Check if text is empty\n",
    "    if not text:\n",
    "        text = \"No text found in the image.\"\n",
    "    \n",
    "    return text"
   ]
  },
  {
   "cell_type": "code",
   "execution_count": 3,
   "id": "03f0e8e1",
   "metadata": {},
   "outputs": [],
   "source": [
    "# Define the input and output interface\n",
    "\n",
    "iface = gr.Interface(\n",
    "    fn=extract_text,\n",
    "    inputs=\"image\",\n",
    "    outputs=\"text\",\n",
    "    title=\"Text Extraction\",\n",
    "    description=\"Extracts text from an image and provides a prompt if no text is found. 😊\",\n",
    "    allow_flagging='never',\n",
    ")"
   ]
  },
  {
   "cell_type": "code",
   "execution_count": 4,
   "id": "da5ed763",
   "metadata": {},
   "outputs": [
    {
     "name": "stdout",
     "output_type": "stream",
     "text": [
      "Running on local URL:  http://127.0.0.1:7860\n",
      "\n",
      "To create a public link, set `share=True` in `launch()`.\n"
     ]
    },
    {
     "data": {
      "text/html": [
       "<div><iframe src=\"http://127.0.0.1:7860/\" width=\"100%\" height=\"500\" allow=\"autoplay; camera; microphone; clipboard-read; clipboard-write;\" frameborder=\"0\" allowfullscreen></iframe></div>"
      ],
      "text/plain": [
       "<IPython.core.display.HTML object>"
      ]
     },
     "metadata": {},
     "output_type": "display_data"
    },
    {
     "data": {
      "text/plain": []
     },
     "execution_count": 4,
     "metadata": {},
     "output_type": "execute_result"
    }
   ],
   "source": [
    "# Launch the interface\n",
    "\n",
    "iface.launch()"
   ]
  }
 ],
 "metadata": {
  "kernelspec": {
   "display_name": "Python 3 (ipykernel)",
   "language": "python",
   "name": "python3"
  },
  "language_info": {
   "codemirror_mode": {
    "name": "ipython",
    "version": 3
   },
   "file_extension": ".py",
   "mimetype": "text/x-python",
   "name": "python",
   "nbconvert_exporter": "python",
   "pygments_lexer": "ipython3",
   "version": "3.10.9"
  }
 },
 "nbformat": 4,
 "nbformat_minor": 5
}
